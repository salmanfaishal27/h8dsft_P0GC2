{
 "cells": [
  {
   "attachments": {},
   "cell_type": "markdown",
   "metadata": {},
   "source": [
    "# Hacktiv8 Phase 0: Graded Challenge 2\n",
    "\n",
    "---"
   ]
  },
  {
   "attachments": {},
   "cell_type": "markdown",
   "metadata": {},
   "source": [
    "## Introduction"
   ]
  },
  {
   "attachments": {},
   "cell_type": "markdown",
   "metadata": {},
   "source": [
    "Name : [Salman Faishal](https://github.com/salmanfaishal27)\n",
    "\n",
    "Batch : 017"
   ]
  },
  {
   "attachments": {},
   "cell_type": "markdown",
   "metadata": {},
   "source": [
    "## Description"
   ]
  },
  {
   "attachments": {},
   "cell_type": "markdown",
   "metadata": {},
   "source": [
    "### Objective"
   ]
  },
  {
   "attachments": {},
   "cell_type": "markdown",
   "metadata": {},
   "source": [
    "- menentukan apakah tempat pembuangan akhir di Austin harus diambah atau tidak\n",
    "- membuat prediksi untuk hari selanjutnya"
   ]
  },
  {
   "attachments": {},
   "cell_type": "markdown",
   "metadata": {},
   "source": [
    "### Problem Statement"
   ]
  },
  {
   "attachments": {},
   "cell_type": "markdown",
   "metadata": {},
   "source": [
    "Pemerintah Austin ingin mengetahui apakah daerahnya harus manambah tempat untuk pembuangan akhir atau tidak dan pemerintah austin ingin mengetahui prediksi berat sampah untuk hari berikutnya "
   ]
  },
  {
   "attachments": {},
   "cell_type": "markdown",
   "metadata": {},
   "source": [
    "## Working Area"
   ]
  },
  {
   "attachments": {},
   "cell_type": "markdown",
   "metadata": {},
   "source": [
    "```\n",
    "SELECT report_date,load_time,load_type,load_weight,dropoff_site FROM bigquery-public-data.austin_waste.waste_and_diversion\n",
    "WHERE report_date >= \"2021-01-01\" and report_date < '2022-01-01' \n",
    "```"
   ]
  },
  {
   "attachments": {},
   "cell_type": "markdown",
   "metadata": {},
   "source": [
    "## Import Library"
   ]
  },
  {
   "attachments": {},
   "cell_type": "markdown",
   "metadata": {},
   "source": [
    "Mengimport library yang akan digunakan, dalam project ini library yang digunakan pandas dan matplotlib."
   ]
  },
  {
   "cell_type": "code",
   "execution_count": 1,
   "metadata": {},
   "outputs": [],
   "source": [
    "import pandas as pd\n",
    "import numpy as np\n",
    "import matplotlib.pyplot as plt\n",
    "import sympy as sy\n",
    "import seaborn as sns\n",
    "from scipy import stats"
   ]
  },
  {
   "attachments": {},
   "cell_type": "markdown",
   "metadata": {},
   "source": [
    "Melakukan setting agar pandas menampilkan seluruh kolom pada dataframe."
   ]
  },
  {
   "cell_type": "code",
   "execution_count": 2,
   "metadata": {},
   "outputs": [],
   "source": [
    "pd.set_option(\"display.max.columns\", None)"
   ]
  },
  {
   "attachments": {},
   "cell_type": "markdown",
   "metadata": {},
   "source": [
    "## Data Loading"
   ]
  },
  {
   "attachments": {},
   "cell_type": "markdown",
   "metadata": {},
   "source": [
    "membuat data frame dari file ```h8dsft_P0GC2_Salman_Faishal.csv```"
   ]
  },
  {
   "cell_type": "code",
   "execution_count": 3,
   "metadata": {},
   "outputs": [],
   "source": [
    "df = pd.read_csv('h8dsft_P0GC2_Salman_Faishal.csv')"
   ]
  },
  {
   "attachments": {},
   "cell_type": "markdown",
   "metadata": {},
   "source": [
    "Menampilkan 5 data pertama dari dataframe ```h8dsft_P0GC2_Salman_Faishal.csv```"
   ]
  },
  {
   "cell_type": "code",
   "execution_count": 4,
   "metadata": {},
   "outputs": [
    {
     "data": {
      "text/html": [
       "<div>\n",
       "<style scoped>\n",
       "    .dataframe tbody tr th:only-of-type {\n",
       "        vertical-align: middle;\n",
       "    }\n",
       "\n",
       "    .dataframe tbody tr th {\n",
       "        vertical-align: top;\n",
       "    }\n",
       "\n",
       "    .dataframe thead th {\n",
       "        text-align: right;\n",
       "    }\n",
       "</style>\n",
       "<table border=\"1\" class=\"dataframe\">\n",
       "  <thead>\n",
       "    <tr style=\"text-align: right;\">\n",
       "      <th></th>\n",
       "      <th>report_date</th>\n",
       "      <th>load_time</th>\n",
       "      <th>load_type</th>\n",
       "      <th>load_weight</th>\n",
       "      <th>dropoff_site</th>\n",
       "    </tr>\n",
       "  </thead>\n",
       "  <tbody>\n",
       "    <tr>\n",
       "      <th>0</th>\n",
       "      <td>2021-07-08</td>\n",
       "      <td>2021-07-08 12:00:00 UTC</td>\n",
       "      <td>TIRES</td>\n",
       "      <td>2260.0</td>\n",
       "      <td>MRF</td>\n",
       "    </tr>\n",
       "    <tr>\n",
       "      <th>1</th>\n",
       "      <td>2021-07-08</td>\n",
       "      <td>2021-07-08 11:00:00 UTC</td>\n",
       "      <td>TIRES</td>\n",
       "      <td>1260.0</td>\n",
       "      <td>MRF</td>\n",
       "    </tr>\n",
       "    <tr>\n",
       "      <th>2</th>\n",
       "      <td>2021-07-08</td>\n",
       "      <td>2021-07-08 03:00:00 UTC</td>\n",
       "      <td>TIRES</td>\n",
       "      <td>800.0</td>\n",
       "      <td>MRF</td>\n",
       "    </tr>\n",
       "    <tr>\n",
       "      <th>3</th>\n",
       "      <td>2021-05-01</td>\n",
       "      <td>2021-05-01 12:29:00 UTC</td>\n",
       "      <td>TIRES</td>\n",
       "      <td>760.0</td>\n",
       "      <td>MRF</td>\n",
       "    </tr>\n",
       "    <tr>\n",
       "      <th>4</th>\n",
       "      <td>2021-07-03</td>\n",
       "      <td>2021-07-03 12:09:00 UTC</td>\n",
       "      <td>TIRES</td>\n",
       "      <td>1400.0</td>\n",
       "      <td>MRF</td>\n",
       "    </tr>\n",
       "  </tbody>\n",
       "</table>\n",
       "</div>"
      ],
      "text/plain": [
       "  report_date                load_time load_type  load_weight dropoff_site\n",
       "0  2021-07-08  2021-07-08 12:00:00 UTC     TIRES       2260.0          MRF\n",
       "1  2021-07-08  2021-07-08 11:00:00 UTC     TIRES       1260.0          MRF\n",
       "2  2021-07-08  2021-07-08 03:00:00 UTC     TIRES        800.0          MRF\n",
       "3  2021-05-01  2021-05-01 12:29:00 UTC     TIRES        760.0          MRF\n",
       "4  2021-07-03  2021-07-03 12:09:00 UTC     TIRES       1400.0          MRF"
      ]
     },
     "execution_count": 4,
     "metadata": {},
     "output_type": "execute_result"
    }
   ],
   "source": [
    "df.head()"
   ]
  },
  {
   "attachments": {},
   "cell_type": "markdown",
   "metadata": {},
   "source": [
    "Menampilkan 5 data terakhir dari dataframe ```h8dsft_P0GC2_Salman_Faishal.csv```"
   ]
  },
  {
   "cell_type": "code",
   "execution_count": 5,
   "metadata": {},
   "outputs": [
    {
     "data": {
      "text/html": [
       "<div>\n",
       "<style scoped>\n",
       "    .dataframe tbody tr th:only-of-type {\n",
       "        vertical-align: middle;\n",
       "    }\n",
       "\n",
       "    .dataframe tbody tr th {\n",
       "        vertical-align: top;\n",
       "    }\n",
       "\n",
       "    .dataframe thead th {\n",
       "        text-align: right;\n",
       "    }\n",
       "</style>\n",
       "<table border=\"1\" class=\"dataframe\">\n",
       "  <thead>\n",
       "    <tr style=\"text-align: right;\">\n",
       "      <th></th>\n",
       "      <th>report_date</th>\n",
       "      <th>load_time</th>\n",
       "      <th>load_type</th>\n",
       "      <th>load_weight</th>\n",
       "      <th>dropoff_site</th>\n",
       "    </tr>\n",
       "  </thead>\n",
       "  <tbody>\n",
       "    <tr>\n",
       "      <th>26152</th>\n",
       "      <td>2021-03-01</td>\n",
       "      <td>2021-03-01 11:26:00 UTC</td>\n",
       "      <td>ORGANICS</td>\n",
       "      <td>12100.0</td>\n",
       "      <td>ORGANICS BY GOSH</td>\n",
       "    </tr>\n",
       "    <tr>\n",
       "      <th>26153</th>\n",
       "      <td>2021-03-01</td>\n",
       "      <td>2021-03-01 04:27:00 UTC</td>\n",
       "      <td>ORGANICS</td>\n",
       "      <td>10900.0</td>\n",
       "      <td>ORGANICS BY GOSH</td>\n",
       "    </tr>\n",
       "    <tr>\n",
       "      <th>26154</th>\n",
       "      <td>2021-03-01</td>\n",
       "      <td>2021-03-01 05:55:00 UTC</td>\n",
       "      <td>ORGANICS</td>\n",
       "      <td>21800.0</td>\n",
       "      <td>ORGANICS BY GOSH</td>\n",
       "    </tr>\n",
       "    <tr>\n",
       "      <th>26155</th>\n",
       "      <td>2021-03-01</td>\n",
       "      <td>2021-03-02 01:10:00 UTC</td>\n",
       "      <td>ORGANICS</td>\n",
       "      <td>5640.0</td>\n",
       "      <td>ORGANICS BY GOSH</td>\n",
       "    </tr>\n",
       "    <tr>\n",
       "      <th>26156</th>\n",
       "      <td>2021-03-01</td>\n",
       "      <td>2021-03-01 10:22:00 UTC</td>\n",
       "      <td>RECYCLED METAL</td>\n",
       "      <td>360.0</td>\n",
       "      <td>AUSTIN IRON AND METAL</td>\n",
       "    </tr>\n",
       "  </tbody>\n",
       "</table>\n",
       "</div>"
      ],
      "text/plain": [
       "      report_date                load_time       load_type  load_weight  \\\n",
       "26152  2021-03-01  2021-03-01 11:26:00 UTC        ORGANICS      12100.0   \n",
       "26153  2021-03-01  2021-03-01 04:27:00 UTC        ORGANICS      10900.0   \n",
       "26154  2021-03-01  2021-03-01 05:55:00 UTC        ORGANICS      21800.0   \n",
       "26155  2021-03-01  2021-03-02 01:10:00 UTC        ORGANICS       5640.0   \n",
       "26156  2021-03-01  2021-03-01 10:22:00 UTC  RECYCLED METAL        360.0   \n",
       "\n",
       "                dropoff_site  \n",
       "26152       ORGANICS BY GOSH  \n",
       "26153       ORGANICS BY GOSH  \n",
       "26154       ORGANICS BY GOSH  \n",
       "26155       ORGANICS BY GOSH  \n",
       "26156  AUSTIN IRON AND METAL  "
      ]
     },
     "execution_count": 5,
     "metadata": {},
     "output_type": "execute_result"
    }
   ],
   "source": [
    "df.tail()"
   ]
  },
  {
   "attachments": {},
   "cell_type": "markdown",
   "metadata": {},
   "source": [
    "## Data Characteristic"
   ]
  },
  {
   "attachments": {},
   "cell_type": "markdown",
   "metadata": {},
   "source": [
    "Menampilkan bentuk dataframe"
   ]
  },
  {
   "cell_type": "code",
   "execution_count": 6,
   "metadata": {},
   "outputs": [
    {
     "data": {
      "text/plain": [
       "(26157, 5)"
      ]
     },
     "execution_count": 6,
     "metadata": {},
     "output_type": "execute_result"
    }
   ],
   "source": [
    "df.shape"
   ]
  },
  {
   "attachments": {},
   "cell_type": "markdown",
   "metadata": {},
   "source": [
    "dataset ini memiliki 26167 baris dan 5 kolom"
   ]
  },
  {
   "attachments": {},
   "cell_type": "markdown",
   "metadata": {},
   "source": [
    "Menampilkan info dari dataframe"
   ]
  },
  {
   "cell_type": "code",
   "execution_count": 7,
   "metadata": {},
   "outputs": [
    {
     "name": "stdout",
     "output_type": "stream",
     "text": [
      "<class 'pandas.core.frame.DataFrame'>\n",
      "RangeIndex: 26157 entries, 0 to 26156\n",
      "Data columns (total 5 columns):\n",
      " #   Column        Non-Null Count  Dtype  \n",
      "---  ------        --------------  -----  \n",
      " 0   report_date   26157 non-null  object \n",
      " 1   load_time     26157 non-null  object \n",
      " 2   load_type     26157 non-null  object \n",
      " 3   load_weight   25109 non-null  float64\n",
      " 4   dropoff_site  26157 non-null  object \n",
      "dtypes: float64(1), object(4)\n",
      "memory usage: 1021.9+ KB\n"
     ]
    }
   ],
   "source": [
    "df.info()"
   ]
  },
  {
   "attachments": {},
   "cell_type": "markdown",
   "metadata": {},
   "source": [
    "Dataset ini terdiri dari\n",
    "\n",
    "- 4 kolom dengan tipe data object\n",
    "- 1 kolom dengan tipe data float\n",
    "\n",
    "dari info tersebut terdapat kolom load_weight yang terdapat missing value"
   ]
  },
  {
   "cell_type": "code",
   "execution_count": 8,
   "metadata": {},
   "outputs": [
    {
     "data": {
      "text/html": [
       "<div>\n",
       "<style scoped>\n",
       "    .dataframe tbody tr th:only-of-type {\n",
       "        vertical-align: middle;\n",
       "    }\n",
       "\n",
       "    .dataframe tbody tr th {\n",
       "        vertical-align: top;\n",
       "    }\n",
       "\n",
       "    .dataframe thead th {\n",
       "        text-align: right;\n",
       "    }\n",
       "</style>\n",
       "<table border=\"1\" class=\"dataframe\">\n",
       "  <thead>\n",
       "    <tr style=\"text-align: right;\">\n",
       "      <th></th>\n",
       "      <th>count</th>\n",
       "      <th>mean</th>\n",
       "      <th>std</th>\n",
       "      <th>min</th>\n",
       "      <th>25%</th>\n",
       "      <th>50%</th>\n",
       "      <th>75%</th>\n",
       "      <th>max</th>\n",
       "    </tr>\n",
       "  </thead>\n",
       "  <tbody>\n",
       "    <tr>\n",
       "      <th>load_weight</th>\n",
       "      <td>25109.0</td>\n",
       "      <td>12227.136307</td>\n",
       "      <td>7135.059565</td>\n",
       "      <td>0.0</td>\n",
       "      <td>7060.0</td>\n",
       "      <td>11300.0</td>\n",
       "      <td>16380.0</td>\n",
       "      <td>245540.0</td>\n",
       "    </tr>\n",
       "  </tbody>\n",
       "</table>\n",
       "</div>"
      ],
      "text/plain": [
       "               count          mean          std  min     25%      50%  \\\n",
       "load_weight  25109.0  12227.136307  7135.059565  0.0  7060.0  11300.0   \n",
       "\n",
       "                 75%       max  \n",
       "load_weight  16380.0  245540.0  "
      ]
     },
     "execution_count": 8,
     "metadata": {},
     "output_type": "execute_result"
    }
   ],
   "source": [
    "df.describe().T"
   ]
  },
  {
   "attachments": {},
   "cell_type": "markdown",
   "metadata": {},
   "source": [
    "Dari hasil di atas kita dapat melihat summary statistics dari kolom dataframe dengan tipe data numeric seperti rata-rata, standar deviasi, quartile, nilai minimum, dan nilai maksimum."
   ]
  },
  {
   "attachments": {},
   "cell_type": "markdown",
   "metadata": {},
   "source": [
    "## Data Cleaning"
   ]
  },
  {
   "attachments": {},
   "cell_type": "markdown",
   "metadata": {},
   "source": [
    "### Missing Value"
   ]
  },
  {
   "cell_type": "code",
   "execution_count": 9,
   "metadata": {},
   "outputs": [
    {
     "data": {
      "text/plain": [
       "report_date        0\n",
       "load_time          0\n",
       "load_type          0\n",
       "load_weight     1048\n",
       "dropoff_site       0\n",
       "dtype: int64"
      ]
     },
     "execution_count": 9,
     "metadata": {},
     "output_type": "execute_result"
    }
   ],
   "source": [
    "df.isna().sum() # Menampilkan jumalah dari value yang kosong"
   ]
  },
  {
   "cell_type": "code",
   "execution_count": 10,
   "metadata": {},
   "outputs": [],
   "source": [
    "df = df.dropna() # Menghapus missing value yang ada pada dataframe"
   ]
  },
  {
   "cell_type": "code",
   "execution_count": 11,
   "metadata": {},
   "outputs": [
    {
     "data": {
      "text/plain": [
       "report_date     0\n",
       "load_time       0\n",
       "load_type       0\n",
       "load_weight     0\n",
       "dropoff_site    0\n",
       "dtype: int64"
      ]
     },
     "execution_count": 11,
     "metadata": {},
     "output_type": "execute_result"
    }
   ],
   "source": [
    "df.isna().sum() # Melihat jumlah missing value yang terdapat pada dataframe"
   ]
  },
  {
   "attachments": {},
   "cell_type": "markdown",
   "metadata": {},
   "source": [
    "sudah tidak ada missing value pada dataframe setelah dilakukan drop"
   ]
  },
  {
   "attachments": {},
   "cell_type": "markdown",
   "metadata": {},
   "source": [
    "## Data Preprocessing"
   ]
  },
  {
   "attachments": {},
   "cell_type": "markdown",
   "metadata": {},
   "source": [
    "merubah type data dari kolom load_time dan report_date menjadi datetime"
   ]
  },
  {
   "cell_type": "code",
   "execution_count": 12,
   "metadata": {},
   "outputs": [],
   "source": [
    "df['report_date'] = pd.to_datetime(df.report_date)\n",
    "df['load_time'] = pd.to_datetime(df.load_time)"
   ]
  },
  {
   "cell_type": "code",
   "execution_count": 13,
   "metadata": {},
   "outputs": [
    {
     "name": "stdout",
     "output_type": "stream",
     "text": [
      "<class 'pandas.core.frame.DataFrame'>\n",
      "Int64Index: 25109 entries, 0 to 26156\n",
      "Data columns (total 5 columns):\n",
      " #   Column        Non-Null Count  Dtype              \n",
      "---  ------        --------------  -----              \n",
      " 0   report_date   25109 non-null  datetime64[ns]     \n",
      " 1   load_time     25109 non-null  datetime64[ns, UTC]\n",
      " 2   load_type     25109 non-null  object             \n",
      " 3   load_weight   25109 non-null  float64            \n",
      " 4   dropoff_site  25109 non-null  object             \n",
      "dtypes: datetime64[ns, UTC](1), datetime64[ns](1), float64(1), object(2)\n",
      "memory usage: 1.1+ MB\n"
     ]
    }
   ],
   "source": [
    "df.info()"
   ]
  },
  {
   "attachments": {},
   "cell_type": "markdown",
   "metadata": {},
   "source": [
    "setelah dilakukan perubahan dataset ini terdiri dari:\n",
    "\n",
    "- 2 kolom dengan tipe data object\n",
    "- 1 kolom dengan tipe data float\n",
    "- 2 klom dengan tipe data datetime\n",
    "\n",
    "dari info tersebut sudah tidak terdapat missing value pada semua kolom"
   ]
  },
  {
   "attachments": {},
   "cell_type": "markdown",
   "metadata": {},
   "source": [
    "## Data Exploration"
   ]
  },
  {
   "cell_type": "code",
   "execution_count": 14,
   "metadata": {},
   "outputs": [
    {
     "data": {
      "text/plain": [
       "min   2021-01-02\n",
       "max   2021-07-09\n",
       "Name: report_date, dtype: datetime64[ns]"
      ]
     },
     "execution_count": 14,
     "metadata": {},
     "output_type": "execute_result"
    }
   ],
   "source": [
    "df.report_date.agg(('min','max'))"
   ]
  },
  {
   "attachments": {},
   "cell_type": "markdown",
   "metadata": {},
   "source": [
    "dataframe ini berisi rentang waktu dari 2021-01-02 sampai 2021-07-09"
   ]
  },
  {
   "cell_type": "code",
   "execution_count": 15,
   "metadata": {},
   "outputs": [
    {
     "data": {
      "text/plain": [
       "GARBAGE COLLECTIONS          8241\n",
       "RECYCLING - SINGLE STREAM    6760\n",
       "ORGANICS                     5749\n",
       "BULK                         1594\n",
       "BRUSH                        1514\n",
       "SWEEPING                      360\n",
       "MIXED LITTER                  329\n",
       "TIRES                         175\n",
       "DEAD ANIMAL                   150\n",
       "YARD TRIMMING                 137\n",
       "RECYCLED METAL                 57\n",
       "LITTER                         41\n",
       "CONTAMINATED RECYCLING          1\n",
       "CONTAMINATED ORGANICS           1\n",
       "Name: load_type, dtype: int64"
      ]
     },
     "execution_count": 15,
     "metadata": {},
     "output_type": "execute_result"
    }
   ],
   "source": [
    "df.load_type.value_counts()"
   ]
  },
  {
   "attachments": {},
   "cell_type": "markdown",
   "metadata": {},
   "source": [
    "menampilkan seluruh kolom load_type"
   ]
  },
  {
   "cell_type": "code",
   "execution_count": 16,
   "metadata": {},
   "outputs": [
    {
     "data": {
      "text/plain": [
       "TDS LANDFILL             10691\n",
       "ORGANICS BY GOSH          5741\n",
       "BALCONES RECYCLING        3837\n",
       "TDS - MRF                 2948\n",
       "HORNSBY BEND              1652\n",
       "MRF                        168\n",
       "AUSTIN IRON AND METAL       50\n",
       "ON ROUTE HIGH DUMP           7\n",
       "GREAT NORTHERN               6\n",
       "PARK BEND                    4\n",
       "AUSTIN WOOD RECYCLING        2\n",
       "BALCONES WOODS               1\n",
       "STEINER LANDFILL             1\n",
       "WESTFIELD                    1\n",
       "Name: dropoff_site, dtype: int64"
      ]
     },
     "execution_count": 16,
     "metadata": {},
     "output_type": "execute_result"
    }
   ],
   "source": [
    "df.dropoff_site.value_counts()"
   ]
  },
  {
   "attachments": {},
   "cell_type": "markdown",
   "metadata": {},
   "source": [
    "menampilkan seluruh kolom dropoff_site"
   ]
  },
  {
   "cell_type": "code",
   "execution_count": 17,
   "metadata": {},
   "outputs": [
    {
     "data": {
      "text/plain": [
       "dropoff_site\n",
       "AUSTIN IRON AND METAL    0.896963\n",
       "AUSTIN WOOD RECYCLING         NaN\n",
       "BALCONES RECYCLING       0.101482\n",
       "BALCONES WOODS                NaN\n",
       "GREAT NORTHERN          -1.509010\n",
       "HORNSBY BEND             0.743034\n",
       "MRF                      4.772560\n",
       "ON ROUTE HIGH DUMP      -0.876144\n",
       "ORGANICS BY GOSH         0.058561\n",
       "PARK BEND                0.544438\n",
       "STEINER LANDFILL              NaN\n",
       "TDS - MRF                0.141616\n",
       "TDS LANDFILL             3.694886\n",
       "WESTFIELD                     NaN\n",
       "Name: load_weight, dtype: float64"
      ]
     },
     "execution_count": 17,
     "metadata": {},
     "output_type": "execute_result"
    }
   ],
   "source": [
    "df.groupby(df.dropoff_site).load_weight.skew()"
   ]
  },
  {
   "attachments": {},
   "cell_type": "markdown",
   "metadata": {},
   "source": [
    "menampilkan seluruh kolom dropoff_site dengan menampilkan nilai skewness dari masing masing value"
   ]
  },
  {
   "cell_type": "code",
   "execution_count": 18,
   "metadata": {},
   "outputs": [
    {
     "name": "stdout",
     "output_type": "stream",
     "text": [
      "nilai skewness pada load_weight: 3.335938213321684\n"
     ]
    },
    {
     "data": {
      "image/png": "[encoded data removed]",
      "text/plain": [
       "<Figure size 640x480 with 1 Axes>"
      ]
     },
     "metadata": {},
     "output_type": "display_data"
    }
   ],
   "source": [
    "print(f'nilai skewness pada load_weight: {df.load_weight.skew()}') # Mempilkan nilai skewness\n",
    "plt.hist(df.load_weight, bins=20) # Menampilkan sebaran data pada kolom load_weight\n",
    "plt.show()"
   ]
  },
  {
   "attachments": {},
   "cell_type": "markdown",
   "metadata": {},
   "source": [
    "dari informasi diatas terdapat bentuk distribusi dan nilai skewness sebesar 3.3 maka bentuk distribusi ini adalah distribusi right skewness karena nilai skewness lebih dari 0.05"
   ]
  },
  {
   "cell_type": "code",
   "execution_count": 19,
   "metadata": {},
   "outputs": [
    {
     "data": {
      "text/plain": [
       "14"
      ]
     },
     "execution_count": 19,
     "metadata": {},
     "output_type": "execute_result"
    }
   ],
   "source": [
    "df.load_type.nunique() # Melihat jumlah value di kolom load_type"
   ]
  },
  {
   "cell_type": "code",
   "execution_count": 20,
   "metadata": {},
   "outputs": [
    {
     "data": {
      "text/html": [
       "<div>\n",
       "<style scoped>\n",
       "    .dataframe tbody tr th:only-of-type {\n",
       "        vertical-align: middle;\n",
       "    }\n",
       "\n",
       "    .dataframe tbody tr th {\n",
       "        vertical-align: top;\n",
       "    }\n",
       "\n",
       "    .dataframe thead th {\n",
       "        text-align: right;\n",
       "    }\n",
       "</style>\n",
       "<table border=\"1\" class=\"dataframe\">\n",
       "  <thead>\n",
       "    <tr style=\"text-align: right;\">\n",
       "      <th></th>\n",
       "      <th></th>\n",
       "      <th>load_weight</th>\n",
       "    </tr>\n",
       "    <tr>\n",
       "      <th>dropoff_site</th>\n",
       "      <th>load_type</th>\n",
       "      <th></th>\n",
       "    </tr>\n",
       "  </thead>\n",
       "  <tbody>\n",
       "    <tr>\n",
       "      <th>AUSTIN IRON AND METAL</th>\n",
       "      <th>RECYCLED METAL</th>\n",
       "      <td>2.256000e+04</td>\n",
       "    </tr>\n",
       "    <tr>\n",
       "      <th>AUSTIN WOOD RECYCLING</th>\n",
       "      <th>RECYCLING - SINGLE STREAM</th>\n",
       "      <td>8.100000e+03</td>\n",
       "    </tr>\n",
       "    <tr>\n",
       "      <th>BALCONES RECYCLING</th>\n",
       "      <th>RECYCLING - SINGLE STREAM</th>\n",
       "      <td>3.631587e+07</td>\n",
       "    </tr>\n",
       "    <tr>\n",
       "      <th>BALCONES WOODS</th>\n",
       "      <th>RECYCLING - SINGLE STREAM</th>\n",
       "      <td>8.460000e+03</td>\n",
       "    </tr>\n",
       "    <tr>\n",
       "      <th>GREAT NORTHERN</th>\n",
       "      <th>GARBAGE COLLECTIONS</th>\n",
       "      <td>1.149200e+05</td>\n",
       "    </tr>\n",
       "    <tr>\n",
       "      <th rowspan=\"4\" valign=\"top\">HORNSBY BEND</th>\n",
       "      <th>BRUSH</th>\n",
       "      <td>9.421240e+06</td>\n",
       "    </tr>\n",
       "    <tr>\n",
       "      <th>GARBAGE COLLECTIONS</th>\n",
       "      <td>8.600000e+03</td>\n",
       "    </tr>\n",
       "    <tr>\n",
       "      <th>ORGANICS</th>\n",
       "      <td>1.616000e+04</td>\n",
       "    </tr>\n",
       "    <tr>\n",
       "      <th>YARD TRIMMING</th>\n",
       "      <td>1.504520e+06</td>\n",
       "    </tr>\n",
       "    <tr>\n",
       "      <th rowspan=\"3\" valign=\"top\">MRF</th>\n",
       "      <th>BULK</th>\n",
       "      <td>2.750000e+04</td>\n",
       "    </tr>\n",
       "    <tr>\n",
       "      <th>RECYCLED METAL</th>\n",
       "      <td>2.300000e+02</td>\n",
       "    </tr>\n",
       "    <tr>\n",
       "      <th>TIRES</th>\n",
       "      <td>2.746670e+05</td>\n",
       "    </tr>\n",
       "    <tr>\n",
       "      <th>ON ROUTE HIGH DUMP</th>\n",
       "      <th>ORGANICS</th>\n",
       "      <td>8.768000e+04</td>\n",
       "    </tr>\n",
       "    <tr>\n",
       "      <th rowspan=\"5\" valign=\"top\">ORGANICS BY GOSH</th>\n",
       "      <th>DEAD ANIMAL</th>\n",
       "      <td>4.380000e+03</td>\n",
       "    </tr>\n",
       "    <tr>\n",
       "      <th>GARBAGE COLLECTIONS</th>\n",
       "      <td>7.500000e+03</td>\n",
       "    </tr>\n",
       "    <tr>\n",
       "      <th>ORGANICS</th>\n",
       "      <td>6.774497e+07</td>\n",
       "    </tr>\n",
       "    <tr>\n",
       "      <th>RECYCLED METAL</th>\n",
       "      <td>6.266000e+04</td>\n",
       "    </tr>\n",
       "    <tr>\n",
       "      <th>SWEEPING</th>\n",
       "      <td>3.040000e+04</td>\n",
       "    </tr>\n",
       "    <tr>\n",
       "      <th>PARK BEND</th>\n",
       "      <th>ORGANICS</th>\n",
       "      <td>5.354000e+04</td>\n",
       "    </tr>\n",
       "    <tr>\n",
       "      <th>STEINER LANDFILL</th>\n",
       "      <th>GARBAGE COLLECTIONS</th>\n",
       "      <td>7.800000e+02</td>\n",
       "    </tr>\n",
       "    <tr>\n",
       "      <th rowspan=\"4\" valign=\"top\">TDS - MRF</th>\n",
       "      <th>BULK</th>\n",
       "      <td>1.976000e+04</td>\n",
       "    </tr>\n",
       "    <tr>\n",
       "      <th>GARBAGE COLLECTIONS</th>\n",
       "      <td>4.699000e+05</td>\n",
       "    </tr>\n",
       "    <tr>\n",
       "      <th>LITTER</th>\n",
       "      <td>3.600000e+02</td>\n",
       "    </tr>\n",
       "    <tr>\n",
       "      <th>RECYCLING - SINGLE STREAM</th>\n",
       "      <td>2.861426e+07</td>\n",
       "    </tr>\n",
       "    <tr>\n",
       "      <th rowspan=\"13\" valign=\"top\">TDS LANDFILL</th>\n",
       "      <th>BRUSH</th>\n",
       "      <td>1.844000e+04</td>\n",
       "    </tr>\n",
       "    <tr>\n",
       "      <th>BULK</th>\n",
       "      <td>1.289348e+07</td>\n",
       "    </tr>\n",
       "    <tr>\n",
       "      <th>CONTAMINATED ORGANICS</th>\n",
       "      <td>2.538000e+04</td>\n",
       "    </tr>\n",
       "    <tr>\n",
       "      <th>CONTAMINATED RECYCLING</th>\n",
       "      <td>5.160000e+03</td>\n",
       "    </tr>\n",
       "    <tr>\n",
       "      <th>DEAD ANIMAL</th>\n",
       "      <td>2.027000e+04</td>\n",
       "    </tr>\n",
       "    <tr>\n",
       "      <th>GARBAGE COLLECTIONS</th>\n",
       "      <td>1.445301e+08</td>\n",
       "    </tr>\n",
       "    <tr>\n",
       "      <th>LITTER</th>\n",
       "      <td>1.283200e+05</td>\n",
       "    </tr>\n",
       "    <tr>\n",
       "      <th>MIXED LITTER</th>\n",
       "      <td>1.051780e+06</td>\n",
       "    </tr>\n",
       "    <tr>\n",
       "      <th>ORGANICS</th>\n",
       "      <td>2.802000e+04</td>\n",
       "    </tr>\n",
       "    <tr>\n",
       "      <th>RECYCLED METAL</th>\n",
       "      <td>2.200000e+02</td>\n",
       "    </tr>\n",
       "    <tr>\n",
       "      <th>RECYCLING - SINGLE STREAM</th>\n",
       "      <td>7.740000e+03</td>\n",
       "    </tr>\n",
       "    <tr>\n",
       "      <th>SWEEPING</th>\n",
       "      <td>3.432080e+06</td>\n",
       "    </tr>\n",
       "    <tr>\n",
       "      <th>TIRES</th>\n",
       "      <td>3.512000e+04</td>\n",
       "    </tr>\n",
       "    <tr>\n",
       "      <th>WESTFIELD</th>\n",
       "      <th>GARBAGE COLLECTIONS</th>\n",
       "      <td>1.602000e+04</td>\n",
       "    </tr>\n",
       "  </tbody>\n",
       "</table>\n",
       "</div>"
      ],
      "text/plain": [
       "                                                  load_weight\n",
       "dropoff_site          load_type                              \n",
       "AUSTIN IRON AND METAL RECYCLED METAL             2.256000e+04\n",
       "AUSTIN WOOD RECYCLING RECYCLING - SINGLE STREAM  8.100000e+03\n",
       "BALCONES RECYCLING    RECYCLING - SINGLE STREAM  3.631587e+07\n",
       "BALCONES WOODS        RECYCLING - SINGLE STREAM  8.460000e+03\n",
       "GREAT NORTHERN        GARBAGE COLLECTIONS        1.149200e+05\n",
       "HORNSBY BEND          BRUSH                      9.421240e+06\n",
       "                      GARBAGE COLLECTIONS        8.600000e+03\n",
       "                      ORGANICS                   1.616000e+04\n",
       "                      YARD TRIMMING              1.504520e+06\n",
       "MRF                   BULK                       2.750000e+04\n",
       "                      RECYCLED METAL             2.300000e+02\n",
       "                      TIRES                      2.746670e+05\n",
       "ON ROUTE HIGH DUMP    ORGANICS                   8.768000e+04\n",
       "ORGANICS BY GOSH      DEAD ANIMAL                4.380000e+03\n",
       "                      GARBAGE COLLECTIONS        7.500000e+03\n",
       "                      ORGANICS                   6.774497e+07\n",
       "                      RECYCLED METAL             6.266000e+04\n",
       "                      SWEEPING                   3.040000e+04\n",
       "PARK BEND             ORGANICS                   5.354000e+04\n",
       "STEINER LANDFILL      GARBAGE COLLECTIONS        7.800000e+02\n",
       "TDS - MRF             BULK                       1.976000e+04\n",
       "                      GARBAGE COLLECTIONS        4.699000e+05\n",
       "                      LITTER                     3.600000e+02\n",
       "                      RECYCLING - SINGLE STREAM  2.861426e+07\n",
       "TDS LANDFILL          BRUSH                      1.844000e+04\n",
       "                      BULK                       1.289348e+07\n",
       "                      CONTAMINATED ORGANICS      2.538000e+04\n",
       "                      CONTAMINATED RECYCLING     5.160000e+03\n",
       "                      DEAD ANIMAL                2.027000e+04\n",
       "                      GARBAGE COLLECTIONS        1.445301e+08\n",
       "                      LITTER                     1.283200e+05\n",
       "                      MIXED LITTER               1.051780e+06\n",
       "                      ORGANICS                   2.802000e+04\n",
       "                      RECYCLED METAL             2.200000e+02\n",
       "                      RECYCLING - SINGLE STREAM  7.740000e+03\n",
       "                      SWEEPING                   3.432080e+06\n",
       "                      TIRES                      3.512000e+04\n",
       "WESTFIELD             GARBAGE COLLECTIONS        1.602000e+04"
      ]
     },
     "execution_count": 20,
     "metadata": {},
     "output_type": "execute_result"
    }
   ],
   "source": [
    "df.groupby(['dropoff_site','load_type'])[['load_weight']].sum() # Menampilkan jumlah load_weight berdasarkan grouping kolom dropoff_site dan load_type"
   ]
  },
  {
   "cell_type": "code",
   "execution_count": 21,
   "metadata": {},
   "outputs": [
    {
     "data": {
      "text/html": [
       "<div>\n",
       "<style scoped>\n",
       "    .dataframe tbody tr th:only-of-type {\n",
       "        vertical-align: middle;\n",
       "    }\n",
       "\n",
       "    .dataframe tbody tr th {\n",
       "        vertical-align: top;\n",
       "    }\n",
       "\n",
       "    .dataframe thead th {\n",
       "        text-align: right;\n",
       "    }\n",
       "</style>\n",
       "<table border=\"1\" class=\"dataframe\">\n",
       "  <thead>\n",
       "    <tr style=\"text-align: right;\">\n",
       "      <th></th>\n",
       "      <th>load_weight</th>\n",
       "    </tr>\n",
       "    <tr>\n",
       "      <th>dropoff_site</th>\n",
       "      <th></th>\n",
       "    </tr>\n",
       "  </thead>\n",
       "  <tbody>\n",
       "    <tr>\n",
       "      <th>AUSTIN IRON AND METAL</th>\n",
       "      <td>2.256000e+04</td>\n",
       "    </tr>\n",
       "    <tr>\n",
       "      <th>AUSTIN WOOD RECYCLING</th>\n",
       "      <td>8.100000e+03</td>\n",
       "    </tr>\n",
       "    <tr>\n",
       "      <th>BALCONES RECYCLING</th>\n",
       "      <td>3.631587e+07</td>\n",
       "    </tr>\n",
       "    <tr>\n",
       "      <th>BALCONES WOODS</th>\n",
       "      <td>8.460000e+03</td>\n",
       "    </tr>\n",
       "    <tr>\n",
       "      <th>GREAT NORTHERN</th>\n",
       "      <td>1.149200e+05</td>\n",
       "    </tr>\n",
       "    <tr>\n",
       "      <th>HORNSBY BEND</th>\n",
       "      <td>1.095052e+07</td>\n",
       "    </tr>\n",
       "    <tr>\n",
       "      <th>MRF</th>\n",
       "      <td>3.023970e+05</td>\n",
       "    </tr>\n",
       "    <tr>\n",
       "      <th>ON ROUTE HIGH DUMP</th>\n",
       "      <td>8.768000e+04</td>\n",
       "    </tr>\n",
       "    <tr>\n",
       "      <th>ORGANICS BY GOSH</th>\n",
       "      <td>6.784991e+07</td>\n",
       "    </tr>\n",
       "    <tr>\n",
       "      <th>PARK BEND</th>\n",
       "      <td>5.354000e+04</td>\n",
       "    </tr>\n",
       "    <tr>\n",
       "      <th>STEINER LANDFILL</th>\n",
       "      <td>7.800000e+02</td>\n",
       "    </tr>\n",
       "    <tr>\n",
       "      <th>TDS - MRF</th>\n",
       "      <td>2.910428e+07</td>\n",
       "    </tr>\n",
       "    <tr>\n",
       "      <th>TDS LANDFILL</th>\n",
       "      <td>1.621761e+08</td>\n",
       "    </tr>\n",
       "    <tr>\n",
       "      <th>WESTFIELD</th>\n",
       "      <td>1.602000e+04</td>\n",
       "    </tr>\n",
       "  </tbody>\n",
       "</table>\n",
       "</div>"
      ],
      "text/plain": [
       "                        load_weight\n",
       "dropoff_site                       \n",
       "AUSTIN IRON AND METAL  2.256000e+04\n",
       "AUSTIN WOOD RECYCLING  8.100000e+03\n",
       "BALCONES RECYCLING     3.631587e+07\n",
       "BALCONES WOODS         8.460000e+03\n",
       "GREAT NORTHERN         1.149200e+05\n",
       "HORNSBY BEND           1.095052e+07\n",
       "MRF                    3.023970e+05\n",
       "ON ROUTE HIGH DUMP     8.768000e+04\n",
       "ORGANICS BY GOSH       6.784991e+07\n",
       "PARK BEND              5.354000e+04\n",
       "STEINER LANDFILL       7.800000e+02\n",
       "TDS - MRF              2.910428e+07\n",
       "TDS LANDFILL           1.621761e+08\n",
       "WESTFIELD              1.602000e+04"
      ]
     },
     "execution_count": 21,
     "metadata": {},
     "output_type": "execute_result"
    }
   ],
   "source": [
    "df.groupby(['dropoff_site'])[['load_weight']].sum()"
   ]
  },
  {
   "cell_type": "code",
   "execution_count": 22,
   "metadata": {},
   "outputs": [],
   "source": [
    "df_site = df[df.dropoff_site == 'TDS LANDFILL'] # Membuat variabel df_site yang berisi dataframe yang berisi dropoff_site bervalue TDS LANDFILL"
   ]
  },
  {
   "attachments": {},
   "cell_type": "markdown",
   "metadata": {},
   "source": [
    "Pada kasus ini site yang saya pilih adalah TDS LANDFILL, site ini menarik karena pada site ini memiliki paling banyak load_type, bukan hanya memiliki berbagai load_type tetapi memiliki load_weight yang rendah."
   ]
  },
  {
   "cell_type": "code",
   "execution_count": 23,
   "metadata": {},
   "outputs": [
    {
     "data": {
      "text/plain": [
       "3.6948860857622075"
      ]
     },
     "execution_count": 23,
     "metadata": {},
     "output_type": "execute_result"
    }
   ],
   "source": [
    "df_site.load_weight.skew() # Melihat nilai skewness dari dataframe df_site"
   ]
  },
  {
   "cell_type": "code",
   "execution_count": 24,
   "metadata": {},
   "outputs": [
    {
     "data": {
      "text/plain": [
       "<AxesSubplot: >"
      ]
     },
     "execution_count": 24,
     "metadata": {},
     "output_type": "execute_result"
    },
    {
     "data": {
      "image/png": "[encoded data removed]",
      "text/plain": [
       "<Figure size 640x480 with 1 Axes>"
      ]
     },
     "metadata": {},
     "output_type": "display_data"
    }
   ],
   "source": [
    "df_site.load_weight.plot(kind='box') # Menampilkan boxplot pada kolom load_weight pada dataframe df_site"
   ]
  },
  {
   "attachments": {},
   "cell_type": "markdown",
   "metadata": {},
   "source": [
    "Dari boxplot diatas terlihat tedapat outlier pada dataframe df_site kolom load_weight"
   ]
  },
  {
   "cell_type": "code",
   "execution_count": 25,
   "metadata": {},
   "outputs": [
    {
     "name": "stdout",
     "output_type": "stream",
     "text": [
      "Mean dengan data masih ada outlier:  15169.407215358715\n",
      "median dengan data masih ada outlier:  14920.0\n",
      "Mode dengan data masih ada outlier:  20.0\n"
     ]
    }
   ],
   "source": [
    "print(f'Mean dengan data masih ada outlier: ',df_site.load_weight.mean()) # Menampilkan mean kolom load_weight pada dataframe df_site\n",
    "print(f'median dengan data masih ada outlier: ',df_site.load_weight.median()) # Menampilkan median kolom load_weight pada dataframe df_site\n",
    "print(f'Mode dengan data masih ada outlier: ',df_site.load_weight.mode()[0]) # Menampilkan mode kolom load_weight pada dataframe df_site"
   ]
  },
  {
   "attachments": {},
   "cell_type": "markdown",
   "metadata": {},
   "source": [
    "## Outlier Removal"
   ]
  },
  {
   "cell_type": "code",
   "execution_count": 26,
   "metadata": {},
   "outputs": [
    {
     "data": {
      "text/plain": [
       "(8820.0, 21660.0)"
      ]
     },
     "execution_count": 26,
     "metadata": {},
     "output_type": "execute_result"
    }
   ],
   "source": [
    "Q1 = df_site.load_weight.quantile(0.25) # Membuat variabel Q1 yang diisi oleh quartile 1 dari kolom load_weight\n",
    "Q3 = df_site.load_weight.quantile(0.75) # Membuat variabel Q3 yang diisi oleh quartile 3 dari kolom load_weight\n",
    "Q1, Q3 "
   ]
  },
  {
   "cell_type": "code",
   "execution_count": 27,
   "metadata": {},
   "outputs": [
    {
     "data": {
      "text/plain": [
       "12840.0"
      ]
     },
     "execution_count": 27,
     "metadata": {},
     "output_type": "execute_result"
    }
   ],
   "source": [
    "IQR = Q3 - Q1 # Membuat varabel IQR yang diisi oleh Q3 - Q1\n",
    "IQR"
   ]
  },
  {
   "cell_type": "code",
   "execution_count": 28,
   "metadata": {},
   "outputs": [
    {
     "data": {
      "text/plain": [
       "(-10440.0, 40920.0)"
      ]
     },
     "execution_count": 28,
     "metadata": {},
     "output_type": "execute_result"
    }
   ],
   "source": [
    "lower_limit = Q1 - 1.5*IQR # Membuat variabel lower_limit yang berisis Q1 dikurangi 1.5*IQR\n",
    "upper_limit = Q3 + 1.5*IQR # Membuat variabel upper_limit yang berisis Q3 dikurangi 1.5*IQR\n",
    "lower_limit, upper_limit"
   ]
  },
  {
   "cell_type": "code",
   "execution_count": 29,
   "metadata": {},
   "outputs": [
    {
     "data": {
      "text/html": [
       "<div>\n",
       "<style scoped>\n",
       "    .dataframe tbody tr th:only-of-type {\n",
       "        vertical-align: middle;\n",
       "    }\n",
       "\n",
       "    .dataframe tbody tr th {\n",
       "        vertical-align: top;\n",
       "    }\n",
       "\n",
       "    .dataframe thead th {\n",
       "        text-align: right;\n",
       "    }\n",
       "</style>\n",
       "<table border=\"1\" class=\"dataframe\">\n",
       "  <thead>\n",
       "    <tr style=\"text-align: right;\">\n",
       "      <th></th>\n",
       "      <th>report_date</th>\n",
       "      <th>load_time</th>\n",
       "      <th>load_type</th>\n",
       "      <th>load_weight</th>\n",
       "      <th>dropoff_site</th>\n",
       "    </tr>\n",
       "  </thead>\n",
       "  <tbody>\n",
       "    <tr>\n",
       "      <th>2381</th>\n",
       "      <td>2021-03-09</td>\n",
       "      <td>2021-03-09 01:30:00+00:00</td>\n",
       "      <td>GARBAGE COLLECTIONS</td>\n",
       "      <td>145160.0</td>\n",
       "      <td>TDS LANDFILL</td>\n",
       "    </tr>\n",
       "    <tr>\n",
       "      <th>5507</th>\n",
       "      <td>2021-03-29</td>\n",
       "      <td>2021-03-29 05:08:00+00:00</td>\n",
       "      <td>GARBAGE COLLECTIONS</td>\n",
       "      <td>58600.0</td>\n",
       "      <td>TDS LANDFILL</td>\n",
       "    </tr>\n",
       "    <tr>\n",
       "      <th>13632</th>\n",
       "      <td>2021-05-26</td>\n",
       "      <td>2021-05-26 11:40:00+00:00</td>\n",
       "      <td>GARBAGE COLLECTIONS</td>\n",
       "      <td>80697.0</td>\n",
       "      <td>TDS LANDFILL</td>\n",
       "    </tr>\n",
       "    <tr>\n",
       "      <th>13817</th>\n",
       "      <td>2021-05-27</td>\n",
       "      <td>2021-05-27 11:33:00+00:00</td>\n",
       "      <td>GARBAGE COLLECTIONS</td>\n",
       "      <td>245540.0</td>\n",
       "      <td>TDS LANDFILL</td>\n",
       "    </tr>\n",
       "    <tr>\n",
       "      <th>16964</th>\n",
       "      <td>2021-06-21</td>\n",
       "      <td>2021-06-21 01:05:00+00:00</td>\n",
       "      <td>GARBAGE COLLECTIONS</td>\n",
       "      <td>227780.0</td>\n",
       "      <td>TDS LANDFILL</td>\n",
       "    </tr>\n",
       "    <tr>\n",
       "      <th>19960</th>\n",
       "      <td>2021-01-07</td>\n",
       "      <td>2021-01-07 02:45:00+00:00</td>\n",
       "      <td>GARBAGE COLLECTIONS</td>\n",
       "      <td>44980.0</td>\n",
       "      <td>TDS LANDFILL</td>\n",
       "    </tr>\n",
       "    <tr>\n",
       "      <th>24239</th>\n",
       "      <td>2021-02-09</td>\n",
       "      <td>2021-02-09 01:08:00+00:00</td>\n",
       "      <td>GARBAGE COLLECTIONS</td>\n",
       "      <td>102680.0</td>\n",
       "      <td>TDS LANDFILL</td>\n",
       "    </tr>\n",
       "  </tbody>\n",
       "</table>\n",
       "</div>"
      ],
      "text/plain": [
       "      report_date                 load_time            load_type  load_weight  \\\n",
       "2381   2021-03-09 2021-03-09 01:30:00+00:00  GARBAGE COLLECTIONS     145160.0   \n",
       "5507   2021-03-29 2021-03-29 05:08:00+00:00  GARBAGE COLLECTIONS      58600.0   \n",
       "13632  2021-05-26 2021-05-26 11:40:00+00:00  GARBAGE COLLECTIONS      80697.0   \n",
       "13817  2021-05-27 2021-05-27 11:33:00+00:00  GARBAGE COLLECTIONS     245540.0   \n",
       "16964  2021-06-21 2021-06-21 01:05:00+00:00  GARBAGE COLLECTIONS     227780.0   \n",
       "19960  2021-01-07 2021-01-07 02:45:00+00:00  GARBAGE COLLECTIONS      44980.0   \n",
       "24239  2021-02-09 2021-02-09 01:08:00+00:00  GARBAGE COLLECTIONS     102680.0   \n",
       "\n",
       "       dropoff_site  \n",
       "2381   TDS LANDFILL  \n",
       "5507   TDS LANDFILL  \n",
       "13632  TDS LANDFILL  \n",
       "13817  TDS LANDFILL  \n",
       "16964  TDS LANDFILL  \n",
       "19960  TDS LANDFILL  \n",
       "24239  TDS LANDFILL  "
      ]
     },
     "execution_count": 29,
     "metadata": {},
     "output_type": "execute_result"
    }
   ],
   "source": [
    "tdsl_with_outlier = df_site[(df_site.load_weight > upper_limit) | (df_site.load_weight < lower_limit)] # Membuat variabel tdsl_with_outlier\n",
    "tdsl_with_outlier"
   ]
  },
  {
   "attachments": {},
   "cell_type": "markdown",
   "metadata": {},
   "source": [
    "Pada data diatas terdapat data yang berisikan outlier pada dataframe df_site"
   ]
  },
  {
   "cell_type": "code",
   "execution_count": 30,
   "metadata": {},
   "outputs": [
    {
     "data": {
      "text/plain": [
       "0.0654756337105977"
      ]
     },
     "execution_count": 30,
     "metadata": {},
     "output_type": "execute_result"
    }
   ],
   "source": [
    "tdsl_with_outlier.shape[0]/len(df_site)*100"
   ]
  },
  {
   "cell_type": "code",
   "execution_count": 31,
   "metadata": {},
   "outputs": [
    {
     "data": {
      "text/html": [
       "<div>\n",
       "<style scoped>\n",
       "    .dataframe tbody tr th:only-of-type {\n",
       "        vertical-align: middle;\n",
       "    }\n",
       "\n",
       "    .dataframe tbody tr th {\n",
       "        vertical-align: top;\n",
       "    }\n",
       "\n",
       "    .dataframe thead th {\n",
       "        text-align: right;\n",
       "    }\n",
       "</style>\n",
       "<table border=\"1\" class=\"dataframe\">\n",
       "  <thead>\n",
       "    <tr style=\"text-align: right;\">\n",
       "      <th></th>\n",
       "      <th>report_date</th>\n",
       "      <th>load_time</th>\n",
       "      <th>load_type</th>\n",
       "      <th>load_weight</th>\n",
       "      <th>dropoff_site</th>\n",
       "    </tr>\n",
       "  </thead>\n",
       "  <tbody>\n",
       "    <tr>\n",
       "      <th>383</th>\n",
       "      <td>2021-01-23</td>\n",
       "      <td>2021-01-23 11:12:00+00:00</td>\n",
       "      <td>BULK</td>\n",
       "      <td>9940.0</td>\n",
       "      <td>TDS LANDFILL</td>\n",
       "    </tr>\n",
       "    <tr>\n",
       "      <th>384</th>\n",
       "      <td>2021-01-23</td>\n",
       "      <td>2021-01-23 01:10:00+00:00</td>\n",
       "      <td>BULK</td>\n",
       "      <td>1960.0</td>\n",
       "      <td>TDS LANDFILL</td>\n",
       "    </tr>\n",
       "    <tr>\n",
       "      <th>385</th>\n",
       "      <td>2021-01-23</td>\n",
       "      <td>2021-01-23 12:31:00+00:00</td>\n",
       "      <td>BULK</td>\n",
       "      <td>10760.0</td>\n",
       "      <td>TDS LANDFILL</td>\n",
       "    </tr>\n",
       "    <tr>\n",
       "      <th>386</th>\n",
       "      <td>2021-01-23</td>\n",
       "      <td>2021-01-23 12:58:00+00:00</td>\n",
       "      <td>BULK</td>\n",
       "      <td>3920.0</td>\n",
       "      <td>TDS LANDFILL</td>\n",
       "    </tr>\n",
       "    <tr>\n",
       "      <th>387</th>\n",
       "      <td>2021-01-23</td>\n",
       "      <td>2021-01-23 12:25:00+00:00</td>\n",
       "      <td>BULK</td>\n",
       "      <td>13580.0</td>\n",
       "      <td>TDS LANDFILL</td>\n",
       "    </tr>\n",
       "    <tr>\n",
       "      <th>...</th>\n",
       "      <td>...</td>\n",
       "      <td>...</td>\n",
       "      <td>...</td>\n",
       "      <td>...</td>\n",
       "      <td>...</td>\n",
       "    </tr>\n",
       "    <tr>\n",
       "      <th>26110</th>\n",
       "      <td>2021-03-01</td>\n",
       "      <td>2021-03-01 01:04:00+00:00</td>\n",
       "      <td>SWEEPING</td>\n",
       "      <td>7280.0</td>\n",
       "      <td>TDS LANDFILL</td>\n",
       "    </tr>\n",
       "    <tr>\n",
       "      <th>26111</th>\n",
       "      <td>2021-03-01</td>\n",
       "      <td>2021-03-01 12:57:00+00:00</td>\n",
       "      <td>SWEEPING</td>\n",
       "      <td>4320.0</td>\n",
       "      <td>TDS LANDFILL</td>\n",
       "    </tr>\n",
       "    <tr>\n",
       "      <th>26112</th>\n",
       "      <td>2021-03-01</td>\n",
       "      <td>2021-03-01 01:40:00+00:00</td>\n",
       "      <td>RECYCLING - SINGLE STREAM</td>\n",
       "      <td>5320.0</td>\n",
       "      <td>TDS LANDFILL</td>\n",
       "    </tr>\n",
       "    <tr>\n",
       "      <th>26113</th>\n",
       "      <td>2021-03-01</td>\n",
       "      <td>2021-03-01 03:44:00+00:00</td>\n",
       "      <td>BULK</td>\n",
       "      <td>3660.0</td>\n",
       "      <td>TDS LANDFILL</td>\n",
       "    </tr>\n",
       "    <tr>\n",
       "      <th>26114</th>\n",
       "      <td>2021-03-01</td>\n",
       "      <td>2021-03-01 11:07:00+00:00</td>\n",
       "      <td>BULK</td>\n",
       "      <td>4440.0</td>\n",
       "      <td>TDS LANDFILL</td>\n",
       "    </tr>\n",
       "  </tbody>\n",
       "</table>\n",
       "<p>10684 rows × 5 columns</p>\n",
       "</div>"
      ],
      "text/plain": [
       "      report_date                 load_time                  load_type  \\\n",
       "383    2021-01-23 2021-01-23 11:12:00+00:00                       BULK   \n",
       "384    2021-01-23 2021-01-23 01:10:00+00:00                       BULK   \n",
       "385    2021-01-23 2021-01-23 12:31:00+00:00                       BULK   \n",
       "386    2021-01-23 2021-01-23 12:58:00+00:00                       BULK   \n",
       "387    2021-01-23 2021-01-23 12:25:00+00:00                       BULK   \n",
       "...           ...                       ...                        ...   \n",
       "26110  2021-03-01 2021-03-01 01:04:00+00:00                   SWEEPING   \n",
       "26111  2021-03-01 2021-03-01 12:57:00+00:00                   SWEEPING   \n",
       "26112  2021-03-01 2021-03-01 01:40:00+00:00  RECYCLING - SINGLE STREAM   \n",
       "26113  2021-03-01 2021-03-01 03:44:00+00:00                       BULK   \n",
       "26114  2021-03-01 2021-03-01 11:07:00+00:00                       BULK   \n",
       "\n",
       "       load_weight  dropoff_site  \n",
       "383         9940.0  TDS LANDFILL  \n",
       "384         1960.0  TDS LANDFILL  \n",
       "385        10760.0  TDS LANDFILL  \n",
       "386         3920.0  TDS LANDFILL  \n",
       "387        13580.0  TDS LANDFILL  \n",
       "...            ...           ...  \n",
       "26110       7280.0  TDS LANDFILL  \n",
       "26111       4320.0  TDS LANDFILL  \n",
       "26112       5320.0  TDS LANDFILL  \n",
       "26113       3660.0  TDS LANDFILL  \n",
       "26114       4440.0  TDS LANDFILL  \n",
       "\n",
       "[10684 rows x 5 columns]"
      ]
     },
     "execution_count": 31,
     "metadata": {},
     "output_type": "execute_result"
    }
   ],
   "source": [
    "tdsl_without_outlier = df_site[(df_site.load_weight < upper_limit) & (df_site.load_weight > lower_limit)] # Membuat variabel tdsl_without_outlier\n",
    "tdsl_without_outlier\n"
   ]
  },
  {
   "attachments": {},
   "cell_type": "markdown",
   "metadata": {},
   "source": [
    "Pada dara diatas terdapat data yang sudah tidak ada outlier pada dataframe df_site"
   ]
  },
  {
   "cell_type": "code",
   "execution_count": 32,
   "metadata": {},
   "outputs": [
    {
     "name": "stdout",
     "output_type": "stream",
     "text": [
      "Mean setelah dihapus outlier:  15094.59898347061\n",
      "median setelah dihapus outlier:  14920.0\n",
      "Mode setelah dihapus outlier:  20.0\n"
     ]
    }
   ],
   "source": [
    "print(f'Mean setelah dihapus outlier: ',tdsl_without_outlier.load_weight.mean()) # Menampilkan mean kolom load_weight pada dataframe tdsl_without_outlier\n",
    "print(f'median setelah dihapus outlier: ',tdsl_without_outlier.load_weight.median()) # Menampilkan median kolom load_weight pada dataframe tdsl_without_outlier\n",
    "print(f'Mode setelah dihapus outlier: ',tdsl_without_outlier.load_weight.mode()[0]) # Menampilkan mode kolom load_weight pada dataframe tdsl_without_outlier"
   ]
  },
  {
   "attachments": {},
   "cell_type": "markdown",
   "metadata": {},
   "source": [
    "## Measure of Variance"
   ]
  },
  {
   "cell_type": "code",
   "execution_count": 33,
   "metadata": {},
   "outputs": [
    {
     "name": "stdout",
     "output_type": "stream",
     "text": [
      "range sebelum dihapus outlier:  245540.0\n",
      "vairan sebelum dihapus outlier:  73805784.13769622\n",
      "standar deviasi sebelum dihapus outlier:  8591.029282786563\n"
     ]
    }
   ],
   "source": [
    "print(f'range sebelum dihapus outlier: ',(df_site.load_weight.max() - df_site.load_weight.min())) # Menampilkan range kolom load_weight pada dataframe df_site sebelum dihapus outlier\n",
    "print(f'vairan sebelum dihapus outlier: ',df_site.load_weight.var()) # Menampilkan varian kolom load_weight pada dataframe df_site sebelum dihapus outlier\n",
    "print(f'standar deviasi sebelum dihapus outlier: ',df_site.load_weight.std()) # Menampilkan standar deviasi kolom load_weight pada dataframe df_site sebelum dihapus outlier"
   ]
  },
  {
   "cell_type": "code",
   "execution_count": 34,
   "metadata": {},
   "outputs": [
    {
     "name": "stdout",
     "output_type": "stream",
     "text": [
      "range setelah dihapus outlier:  35900.0\n",
      "varian setelah dihapus outlier:  61689203.067723714\n",
      "standar deviasi setelah dihapus outlier:  7854.247453940047\n"
     ]
    }
   ],
   "source": [
    "print(f'range setelah dihapus outlier: ',(tdsl_without_outlier.load_weight.max() - tdsl_without_outlier.load_weight.min())) # Menampilkan range kolom load_weight pada dataframe df_site setelah dihapus outlier\n",
    "print(f'varian setelah dihapus outlier: ',tdsl_without_outlier.load_weight.var()) # Menampilkan varian kolom load_weight pada dataframe df_site setelah dihapus outlier\n",
    "print(f'standar deviasi setelah dihapus outlier: ',tdsl_without_outlier.load_weight.std()) # Menampilkan standar deviasi kolom load_weight pada dataframe df_site setelah dihapus outlier"
   ]
  },
  {
   "cell_type": "code",
   "execution_count": 35,
   "metadata": {},
   "outputs": [
    {
     "name": "stdout",
     "output_type": "stream",
     "text": [
      "Confidence Interval dari site TDS LANDFILL adalah: (1038.4215403209255, 29300.3928903965)\n"
     ]
    }
   ],
   "source": [
    "ci = stats.norm.interval(0.90, df_site.load_weight.mean(), df_site.load_weight.std()) # Membuat variabel ci yang berisikan confidence interval\n",
    "print(f'Confidence Interval dari site TDS LANDFILL adalah: {ci}')"
   ]
  },
  {
   "cell_type": "code",
   "execution_count": 36,
   "metadata": {},
   "outputs": [
    {
     "name": "stdout",
     "output_type": "stream",
     "text": [
      "Rata-rata load weight dari 2021-01-02 sampai 2021-07-09 adalah:  15788.694550753406\n"
     ]
    }
   ],
   "source": [
    "hipo_test = df['load_weight'].groupby(df.load_time).sum() # Membuat variabel hipo_test\n",
    "print('Rata-rata load weight dari 2021-01-02 sampai 2021-07-09 adalah: ',hipo_test.mean()) # Menampilkan mean dari variabel hipo_test"
   ]
  },
  {
   "attachments": {},
   "cell_type": "markdown",
   "metadata": {},
   "source": [
    "Hipotesis pada kasus ini\n",
    "\n",
    "- H0: μ <= 10000\n",
    "- H1: μ > 10000"
   ]
  },
  {
   "cell_type": "code",
   "execution_count": 37,
   "metadata": {},
   "outputs": [
    {
     "name": "stdout",
     "output_type": "stream",
     "text": [
      "P-value: 0.0\n",
      "t-statistics: 62.56266524581141\n"
     ]
    }
   ],
   "source": [
    "t_stat,p_val = stats.ttest_1samp(hipo_test.reset_index().load_weight, 10000) # Mwnghitung t_stat dan p_val\n",
    "print('P-value:',p_val/2)\n",
    "print('t-statistics:',t_stat)"
   ]
  },
  {
   "cell_type": "code",
   "execution_count": 38,
   "metadata": {},
   "outputs": [
    {
     "name": "stdout",
     "output_type": "stream",
     "text": [
      "H0 Rejected\n"
     ]
    }
   ],
   "source": [
    "if p_val/2 <= 0.05:\n",
    "    print('H0 Rejected')\n",
    "else:\n",
    "    print('H0 Fail to reject')"
   ]
  },
  {
   "cell_type": "code",
   "execution_count": 39,
   "metadata": {},
   "outputs": [
    {
     "data": {
      "text/plain": [
       "15169.407215358715"
      ]
     },
     "execution_count": 39,
     "metadata": {},
     "output_type": "execute_result"
    }
   ],
   "source": [
    "df_site.load_weight.mean()"
   ]
  },
  {
   "attachments": {},
   "cell_type": "markdown",
   "metadata": {},
   "source": [
    "Dari hasil uji hipotesis didapatkan null hipotesis ditolak dimana rata rata load weight TDS LANDFILL lebih dari 10000 Kg, jadi pemerintah memerlukan tambahan kapasitas tambahan di TDS LANDFILL"
   ]
  },
  {
   "cell_type": "code",
   "execution_count": 40,
   "metadata": {},
   "outputs": [
    {
     "data": {
      "image/png": "[encoded data removed]",
      "text/plain": [
       "<Figure size 500x500 with 1 Axes>"
      ]
     },
     "metadata": {},
     "output_type": "display_data"
    }
   ],
   "source": [
    "load_weight_pop = np.random.normal(hipo_test.mean(),hipo_test.std(),10000)\n",
    "\n",
    "ci = stats.norm.interval(0.90,df_site.load_weight.mean(),df_site.load_weight.std())\n",
    "\n",
    "sns.displot(load_weight_pop, label = 'Daily Load Weight (Populasi)',color='blue')\n",
    "plt.axvline(df_site.load_weight.mean(), linewidth=2, color='r', label='Daily Load Weight Mean')\n",
    "plt.axvline(ci[1], color = 'green',linestyle = 'dashed', label = 'confidence threshold of 95%' )\n",
    "plt.axvline(load_weight_pop.mean() + t_stat*load_weight_pop.std(),color = 'black',linestyle = 'dashed', label = 'Alternative Hypothesis')\n",
    "plt.title('load weight distribution')\n",
    "plt.legend()\n",
    "plt.show()\n"
   ]
  },
  {
   "attachments": {},
   "cell_type": "markdown",
   "metadata": {},
   "source": [
    "## Problem 2"
   ]
  },
  {
   "cell_type": "code",
   "execution_count": 41,
   "metadata": {},
   "outputs": [],
   "source": [
    "dated = df.groupby('report_date').load_weight.sum().reset_index().sort_values(by = 'report_date') # Membuat variabel dated yang berisi dataframe yang sudah di filetr"
   ]
  },
  {
   "cell_type": "code",
   "execution_count": 42,
   "metadata": {},
   "outputs": [
    {
     "data": {
      "text/html": [
       "<div>\n",
       "<style scoped>\n",
       "    .dataframe tbody tr th:only-of-type {\n",
       "        vertical-align: middle;\n",
       "    }\n",
       "\n",
       "    .dataframe tbody tr th {\n",
       "        vertical-align: top;\n",
       "    }\n",
       "\n",
       "    .dataframe thead th {\n",
       "        text-align: right;\n",
       "    }\n",
       "</style>\n",
       "<table border=\"1\" class=\"dataframe\">\n",
       "  <thead>\n",
       "    <tr style=\"text-align: right;\">\n",
       "      <th></th>\n",
       "      <th>report_date</th>\n",
       "      <th>load_weight</th>\n",
       "    </tr>\n",
       "  </thead>\n",
       "  <tbody>\n",
       "    <tr>\n",
       "      <th>0</th>\n",
       "      <td>2021-01-02</td>\n",
       "      <td>2170130.0</td>\n",
       "    </tr>\n",
       "    <tr>\n",
       "      <th>1</th>\n",
       "      <td>2021-01-04</td>\n",
       "      <td>2920260.0</td>\n",
       "    </tr>\n",
       "    <tr>\n",
       "      <th>2</th>\n",
       "      <td>2021-01-05</td>\n",
       "      <td>2388540.0</td>\n",
       "    </tr>\n",
       "    <tr>\n",
       "      <th>3</th>\n",
       "      <td>2021-01-06</td>\n",
       "      <td>2396550.0</td>\n",
       "    </tr>\n",
       "    <tr>\n",
       "      <th>4</th>\n",
       "      <td>2021-01-07</td>\n",
       "      <td>2438330.0</td>\n",
       "    </tr>\n",
       "    <tr>\n",
       "      <th>...</th>\n",
       "      <td>...</td>\n",
       "      <td>...</td>\n",
       "    </tr>\n",
       "    <tr>\n",
       "      <th>160</th>\n",
       "      <td>2021-07-05</td>\n",
       "      <td>1897290.0</td>\n",
       "    </tr>\n",
       "    <tr>\n",
       "      <th>161</th>\n",
       "      <td>2021-07-06</td>\n",
       "      <td>1921640.0</td>\n",
       "    </tr>\n",
       "    <tr>\n",
       "      <th>162</th>\n",
       "      <td>2021-07-07</td>\n",
       "      <td>1553080.0</td>\n",
       "    </tr>\n",
       "    <tr>\n",
       "      <th>163</th>\n",
       "      <td>2021-07-08</td>\n",
       "      <td>1417650.0</td>\n",
       "    </tr>\n",
       "    <tr>\n",
       "      <th>164</th>\n",
       "      <td>2021-07-09</td>\n",
       "      <td>120340.0</td>\n",
       "    </tr>\n",
       "  </tbody>\n",
       "</table>\n",
       "<p>165 rows × 2 columns</p>\n",
       "</div>"
      ],
      "text/plain": [
       "    report_date  load_weight\n",
       "0    2021-01-02    2170130.0\n",
       "1    2021-01-04    2920260.0\n",
       "2    2021-01-05    2388540.0\n",
       "3    2021-01-06    2396550.0\n",
       "4    2021-01-07    2438330.0\n",
       "..          ...          ...\n",
       "160  2021-07-05    1897290.0\n",
       "161  2021-07-06    1921640.0\n",
       "162  2021-07-07    1553080.0\n",
       "163  2021-07-08    1417650.0\n",
       "164  2021-07-09     120340.0\n",
       "\n",
       "[165 rows x 2 columns]"
      ]
     },
     "execution_count": 42,
     "metadata": {},
     "output_type": "execute_result"
    }
   ],
   "source": [
    "dated"
   ]
  },
  {
   "attachments": {},
   "cell_type": "markdown",
   "metadata": {},
   "source": [
    "dataframe diatas sudah difilter yang menampilkan report_date dan jumlah load_weight dari tiap report_date"
   ]
  },
  {
   "cell_type": "code",
   "execution_count": 43,
   "metadata": {},
   "outputs": [],
   "source": [
    "def func_p(df):\n",
    "    whari_ini = df[df.report_date == '2021-07-09'].load_weight\n",
    "    v = np.gradient(dated.load_weight, dated.index)[-1]\n",
    "    dt = 1\n",
    "    return whari_ini + (v * dt)"
   ]
  },
  {
   "attachments": {},
   "cell_type": "markdown",
   "metadata": {},
   "source": [
    "fungsi yang dugunakan untuk menghitung prediksi"
   ]
  },
  {
   "cell_type": "code",
   "execution_count": 44,
   "metadata": {},
   "outputs": [],
   "source": [
    "pred = pd.DataFrame({'report_date': '2021-07-10', 'load_weight': list(func_p(dated))}) # membuat variabel pred yang berisi prediksi yang sudah dihitung dari fungsi"
   ]
  },
  {
   "cell_type": "code",
   "execution_count": 45,
   "metadata": {},
   "outputs": [
    {
     "data": {
      "text/html": [
       "<div>\n",
       "<style scoped>\n",
       "    .dataframe tbody tr th:only-of-type {\n",
       "        vertical-align: middle;\n",
       "    }\n",
       "\n",
       "    .dataframe tbody tr th {\n",
       "        vertical-align: top;\n",
       "    }\n",
       "\n",
       "    .dataframe thead th {\n",
       "        text-align: right;\n",
       "    }\n",
       "</style>\n",
       "<table border=\"1\" class=\"dataframe\">\n",
       "  <thead>\n",
       "    <tr style=\"text-align: right;\">\n",
       "      <th></th>\n",
       "      <th>report_date</th>\n",
       "      <th>load_weight</th>\n",
       "    </tr>\n",
       "  </thead>\n",
       "  <tbody>\n",
       "    <tr>\n",
       "      <th>0</th>\n",
       "      <td>2021-07-10</td>\n",
       "      <td>-1176970.0</td>\n",
       "    </tr>\n",
       "  </tbody>\n",
       "</table>\n",
       "</div>"
      ],
      "text/plain": [
       "  report_date  load_weight\n",
       "0  2021-07-10   -1176970.0"
      ]
     },
     "execution_count": 45,
     "metadata": {},
     "output_type": "execute_result"
    }
   ],
   "source": [
    "pred"
   ]
  },
  {
   "cell_type": "code",
   "execution_count": 46,
   "metadata": {},
   "outputs": [
    {
     "data": {
      "text/html": [
       "<div>\n",
       "<style scoped>\n",
       "    .dataframe tbody tr th:only-of-type {\n",
       "        vertical-align: middle;\n",
       "    }\n",
       "\n",
       "    .dataframe tbody tr th {\n",
       "        vertical-align: top;\n",
       "    }\n",
       "\n",
       "    .dataframe thead th {\n",
       "        text-align: right;\n",
       "    }\n",
       "</style>\n",
       "<table border=\"1\" class=\"dataframe\">\n",
       "  <thead>\n",
       "    <tr style=\"text-align: right;\">\n",
       "      <th></th>\n",
       "      <th>report_date</th>\n",
       "      <th>load_weight</th>\n",
       "    </tr>\n",
       "  </thead>\n",
       "  <tbody>\n",
       "    <tr>\n",
       "      <th>0</th>\n",
       "      <td>2021-01-02</td>\n",
       "      <td>2170130.0</td>\n",
       "    </tr>\n",
       "    <tr>\n",
       "      <th>1</th>\n",
       "      <td>2021-01-04</td>\n",
       "      <td>2920260.0</td>\n",
       "    </tr>\n",
       "    <tr>\n",
       "      <th>2</th>\n",
       "      <td>2021-01-05</td>\n",
       "      <td>2388540.0</td>\n",
       "    </tr>\n",
       "    <tr>\n",
       "      <th>3</th>\n",
       "      <td>2021-01-06</td>\n",
       "      <td>2396550.0</td>\n",
       "    </tr>\n",
       "    <tr>\n",
       "      <th>4</th>\n",
       "      <td>2021-01-07</td>\n",
       "      <td>2438330.0</td>\n",
       "    </tr>\n",
       "    <tr>\n",
       "      <th>...</th>\n",
       "      <td>...</td>\n",
       "      <td>...</td>\n",
       "    </tr>\n",
       "    <tr>\n",
       "      <th>160</th>\n",
       "      <td>2021-07-05</td>\n",
       "      <td>1897290.0</td>\n",
       "    </tr>\n",
       "    <tr>\n",
       "      <th>161</th>\n",
       "      <td>2021-07-06</td>\n",
       "      <td>1921640.0</td>\n",
       "    </tr>\n",
       "    <tr>\n",
       "      <th>162</th>\n",
       "      <td>2021-07-07</td>\n",
       "      <td>1553080.0</td>\n",
       "    </tr>\n",
       "    <tr>\n",
       "      <th>163</th>\n",
       "      <td>2021-07-08</td>\n",
       "      <td>1417650.0</td>\n",
       "    </tr>\n",
       "    <tr>\n",
       "      <th>164</th>\n",
       "      <td>2021-07-09</td>\n",
       "      <td>120340.0</td>\n",
       "    </tr>\n",
       "  </tbody>\n",
       "</table>\n",
       "<p>165 rows × 2 columns</p>\n",
       "</div>"
      ],
      "text/plain": [
       "    report_date  load_weight\n",
       "0    2021-01-02    2170130.0\n",
       "1    2021-01-04    2920260.0\n",
       "2    2021-01-05    2388540.0\n",
       "3    2021-01-06    2396550.0\n",
       "4    2021-01-07    2438330.0\n",
       "..          ...          ...\n",
       "160  2021-07-05    1897290.0\n",
       "161  2021-07-06    1921640.0\n",
       "162  2021-07-07    1553080.0\n",
       "163  2021-07-08    1417650.0\n",
       "164  2021-07-09     120340.0\n",
       "\n",
       "[165 rows x 2 columns]"
      ]
     },
     "execution_count": 46,
     "metadata": {},
     "output_type": "execute_result"
    }
   ],
   "source": [
    "dated = df.groupby('report_date').load_weight.sum().reset_index().sort_values('report_date')\n",
    "dated['report_date'] = dated.report_date.astype(str)\n",
    "dated"
   ]
  },
  {
   "cell_type": "code",
   "execution_count": 47,
   "metadata": {},
   "outputs": [],
   "source": [
    "all = pd.concat([dated, pred]) # Menggabungkan prediksi kedalam dataframe dated"
   ]
  },
  {
   "cell_type": "code",
   "execution_count": 52,
   "metadata": {},
   "outputs": [
    {
     "data": {
      "image/png": "[encoded data removed]",
      "text/plain": [
       "<Figure size 2500x600 with 1 Axes>"
      ]
     },
     "metadata": {},
     "output_type": "display_data"
    }
   ],
   "source": [
    "plt.figure(figsize=(25, 6))\n",
    "plt.plot(all.report_date, all.load_weight, c='red', label='Prediction')\n",
    "plt.plot(dated.report_date, dated.load_weight, c='blue', label='Data') \n",
    "plt.title('Load Weight Forecast')\n",
    "plt.legend()\n",
    "plt.show()"
   ]
  },
  {
   "attachments": {},
   "cell_type": "markdown",
   "metadata": {},
   "source": [
    "## Conclusions, Assumptions, Overall Analysis"
   ]
  },
  {
   "attachments": {},
   "cell_type": "markdown",
   "metadata": {},
   "source": [
    "### Problem 1"
   ]
  },
  {
   "attachments": {},
   "cell_type": "markdown",
   "metadata": {},
   "source": [
    "1. Teknik apa yang kamu pilih untuk handling outlier? jelaskan alasannya!"
   ]
  },
  {
   "attachments": {},
   "cell_type": "markdown",
   "metadata": {},
   "source": [
    "Teknik yang digunakan pada analisis ini adalah turkey's rule karena datanya terdistribusi skewed"
   ]
  },
  {
   "attachments": {},
   "cell_type": "markdown",
   "metadata": {},
   "source": [
    "2. Apa konsep dibalik confidence interval sehingga kita dapat menggunakannya untuk menyelesaikan langkah pada nomor 7?"
   ]
  },
  {
   "attachments": {},
   "cell_type": "markdown",
   "metadata": {},
   "source": [
    "pada soal no 7 membahas tentang confidence interval dimana untuk mencari confidence interval harus menginput parameter .stats.norm.interval yang ada pada modul scipy, parameter tersebut berisi nilai mean dan standar deviasi dari dataframe yang sudah dibuat baik itu sampel ataupun populasi, karena confidence interval menggunakan nilai mean dan standar deviasi yang tenyata nilai nilai tersebut adalah central tendency, maka confidence interval sangat erat kaitannya dengan central tendency"
   ]
  },
  {
   "attachments": {},
   "cell_type": "markdown",
   "metadata": {},
   "source": [
    "3. Jelaskan jenis uji hipotesis apa yang kamu terapkan dan mengapa?"
   ]
  },
  {
   "attachments": {},
   "cell_type": "markdown",
   "metadata": {},
   "source": [
    "Teknik yang digunakan pada hipotesis ini adalah single sample one tailed, karena data yang digunakan hanya kolom load_weight"
   ]
  },
  {
   "attachments": {},
   "cell_type": "markdown",
   "metadata": {},
   "source": [
    "### Problem 2"
   ]
  },
  {
   "attachments": {},
   "cell_type": "markdown",
   "metadata": {},
   "source": [
    "1. Untuk menghitung turunan pertama dapat digunakan metode simbolik dan numerik, untuk kasus ini, teknik apa yang kamu gunakan?"
   ]
  },
  {
   "attachments": {},
   "cell_type": "markdown",
   "metadata": {},
   "source": [
    "untuk menghitung turunan pertama saya menggunakan np.gradient, sehingga metode yang digunakan adalah simbolik."
   ]
  },
  {
   "attachments": {},
   "cell_type": "markdown",
   "metadata": {},
   "source": [
    "2. Apakah kamu membutuhkan fungsi matematis untuk menghitung turunannya? (ya/tidak) berikan alasanmu!"
   ]
  },
  {
   "attachments": {},
   "cell_type": "markdown",
   "metadata": {},
   "source": [
    "iya, karena untuk mengetahui turunan pertama dari setiap baris saya harus menggunakan fungsi matematis yaitu np.gradient"
   ]
  },
  {
   "attachments": {},
   "cell_type": "markdown",
   "metadata": {},
   "source": [
    "3. Berapa load weight yang kamu perkirakan di hari esok (10 Juli 2021)?"
   ]
  },
  {
   "attachments": {},
   "cell_type": "markdown",
   "metadata": {},
   "source": [
    "Hasil prediksi load_weight untuk tanggal 10 july 2021 adalah -1176970 karena hasil prediksi bernilai negatif maka bisa disimpulkan untuk load_weight padaa tanggal 10 july 2021 adalah 0"
   ]
  }
 ],
 "metadata": {
  "kernelspec": {
   "display_name": "Python 3",
   "language": "python",
   "name": "python3"
  },
  "language_info": {
   "codemirror_mode": {
    "name": "ipython",
    "version": 3
   },
   "file_extension": ".py",
   "mimetype": "text/x-python",
   "name": "python",
   "nbconvert_exporter": "python",
   "pygments_lexer": "ipython3",
   "version": "3.10.4 (tags/v3.10.4:9d38120, Mar 23 2022, 23:13:41) [MSC v.1929 64 bit (AMD64)]"
  },
  "orig_nbformat": 4,
  "vscode": {
   "interpreter": {
    "hash": "4217bdb66c1619d3c7bf3a5f6dea8f7bd4200ce5b7b90b812037b80bad35d2ee"
   }
  }
 },
 "nbformat": 4,
 "nbformat_minor": 2
}
